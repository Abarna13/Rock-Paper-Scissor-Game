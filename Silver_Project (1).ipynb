{
  "nbformat": 4,
  "nbformat_minor": 0,
  "metadata": {
    "colab": {
      "name": "Silver Project.ipynb",
      "provenance": [],
      "collapsed_sections": []
    },
    "kernelspec": {
      "name": "python3",
      "display_name": "Python 3"
    }
  },
  "cells": [
    {
      "cell_type": "code",
      "metadata": {
        "id": "k4xTMb96YKYv",
        "cellView": "both",
        "colab": {
          "base_uri": "https://localhost:8080/"
        },
        "outputId": "c5f5740f-4c52-4a82-d851-03461eca898e"
      },
      "source": [
        "import random\n",
        "print(\"Rules of the Rock papaer scissor game as follows: \\n\"\n",
        "+\"Rock + paper ->paper wins \\n\"\n",
        "+\"Rock + scissor ->rock wins \\n\"\n",
        "+\"Paper + Rock ->paper wins \\n\"\n",
        "+\"Scissor + Rock ->rock wins \\n\"\n",
        "+\"Scissor + paper ->paper wins \\n\"\n",
        "+\"Rock + rock -> True \\n\"\n",
        "+\"Paper + paper -> True \\n\"\n",
        "+\"Rock + rock -> True \\n\")\n",
        "while True:\n",
        "  print(\"Enter choice \\n 1. Rock \\n 2. Paper \\n 3. Scissor \\n\")\n",
        "  choice = int(input(\"User turn: \"))\n",
        "  while choice > 3 or choice < 1:\n",
        "    choice = int(input(\"enter valid input:\" ))\n",
        "    if choice == 1:\n",
        "      choice_name = 'Rock'\n",
        "    elif choice == 2:\n",
        "      choice_name = 'paper'\n",
        "    else:\n",
        "      choice_name = 'scissor'\n",
        "    print(\"User choice is: \" + choice_name)\n",
        "    print(\"\\nNow its Computer turn.....\")\n",
        "    comp_choice = random.randint(1,3)\n",
        "    while comp_choice == choice:\n",
        "      comp_choice = random.randint(1,3)\n",
        "      if comp_choice == 1:\n",
        "        comp_choice_name = 'Rock'\n",
        "      elif comp_choice == 2:\n",
        "        comp_choice_name = 'paper'\n",
        "      else:\n",
        "        comp_choice_name = 'scissor'\n",
        "      print(\"Computer choice is: \" + comp_choice_name)\n",
        "      print(choice_name + \" V/s\" + comp_choice_name)\n",
        "      if ((choice == 1 and comp_choice == 2) or\n",
        "          (choice == 2 and comp_choice == 1)):\n",
        "        print(\"paper wins =>\" , end = \"\")\n",
        "        result = \"paper\"\n",
        "      elif ((choice == 1 and comp_choice == 3) or\n",
        "           (choice == 3 and comp_choice == 1)):\n",
        "        print(\"Rock wins =>\", end = \"\")\n",
        "        result = \"Rock\"\n",
        "      else:\n",
        "        print(\"scissor wins =>\", end = \"\")\n",
        "        result = \"scissor\"\n",
        "      if result == choice_name:\n",
        "        print(\"<== User wins ==>\")\n",
        "      else:\n",
        "        print(\"<== Computer wins ==>\")\n",
        "      print(\"Do you want to play again? (Y/N)\")\n",
        "      ans = input()\n",
        "      if ans == 'n' or ans == 'N':\n",
        "        break\n",
        "  print(\"\\nThanks for playing\")\n",
        "    \n",
        "\n"
      ],
      "execution_count": null,
      "outputs": [
        {
          "output_type": "stream",
          "text": [
            "Rules of the Rock papaer scissor game as follows: \n",
            "Rock + paper ->paper wins \n",
            "Rock + scissor ->rock wins \n",
            "Paper + Rock ->paper wins \n",
            "Scissor + Rock ->rock wins \n",
            "Scissor + paper ->paper wins \n",
            "Rock + rock -> True \n",
            "Paper + paper -> True \n",
            "Rock + rock -> True \n",
            "\n",
            "Enter choice \n",
            " 1. Rock \n",
            " 2. Paper \n",
            " 3. Scissor \n",
            "\n",
            "User turn: 12\n",
            "enter valid input:1\n",
            "User choice is: Rock\n",
            "\n",
            "Now its Computer turn.....\n",
            "Computer choice is: paper\n",
            "Rock V/spaper\n",
            "paper wins =><== Computer wins ==>\n",
            "Do you want to play again? (Y/N)\n",
            "N\n",
            "\n",
            "Thanks for playing\n",
            "Enter choice \n",
            " 1. Rock \n",
            " 2. Paper \n",
            " 3. Scissor \n",
            "\n"
          ],
          "name": "stdout"
        }
      ]
    },
    {
      "cell_type": "code",
      "metadata": {
        "id": "8cnwnnXN6hXo"
      },
      "source": [
        ""
      ],
      "execution_count": null,
      "outputs": []
    },
    {
      "cell_type": "code",
      "metadata": {
        "id": "_7fiBpedhkkk"
      },
      "source": [
        ""
      ],
      "execution_count": null,
      "outputs": []
    }
  ]
}